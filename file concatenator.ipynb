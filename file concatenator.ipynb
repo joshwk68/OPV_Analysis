{
 "cells": [
  {
   "cell_type": "code",
   "execution_count": 20,
   "metadata": {},
   "outputs": [],
   "source": [
    "import os\n",
    "\n",
    "files = os.listdir(\"/Users/Joshua Wen-Kai Huang/Desktop/research/2019_04_04_P3HTPCBM_150C_15min_Sub6\")\n",
    "filenames = []\n",
    "\n",
    "for i in files:\n",
    "    if ('liv1' in i):\n",
    "        filenames.append(\"/Users/Joshua Wen-Kai Huang/Desktop/research/2019_04_04_P3HTPCBM_150C_15min_Sub6\" + \"/\" + i)\n",
    "        \n",
    "with open('/Users/Joshua Wen-Kai Huang/Desktop/output', 'w') as outfile:\n",
    "    for fname in filenames:\n",
    "        with open(fname) as infile:\n",
    "            for line in infile:\n",
    "                outfile.write(line)"
   ]
  },
  {
   "cell_type": "code",
   "execution_count": null,
   "metadata": {},
   "outputs": [],
   "source": []
  },
  {
   "cell_type": "code",
   "execution_count": null,
   "metadata": {},
   "outputs": [],
   "source": []
  },
  {
   "cell_type": "code",
   "execution_count": null,
   "metadata": {},
   "outputs": [],
   "source": []
  }
 ],
 "metadata": {
  "kernelspec": {
   "display_name": "Python 3",
   "language": "python",
   "name": "python3"
  },
  "language_info": {
   "codemirror_mode": {
    "name": "ipython",
    "version": 3
   },
   "file_extension": ".py",
   "mimetype": "text/x-python",
   "name": "python",
   "nbconvert_exporter": "python",
   "pygments_lexer": "ipython3",
   "version": "3.7.3"
  }
 },
 "nbformat": 4,
 "nbformat_minor": 2
}
